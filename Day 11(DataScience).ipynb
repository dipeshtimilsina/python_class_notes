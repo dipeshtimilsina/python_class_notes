{
 "cells": [
  {
   "cell_type": "code",
   "execution_count": 1,
   "metadata": {},
   "outputs": [],
   "source": [
    "import numpy as np"
   ]
  },
  {
   "cell_type": "code",
   "execution_count": 2,
   "metadata": {},
   "outputs": [],
   "source": [
    "list_1 = [1,2,3,4,5]"
   ]
  },
  {
   "cell_type": "code",
   "execution_count": 3,
   "metadata": {},
   "outputs": [],
   "source": [
    "arr_1 = np.asarray(list_1)"
   ]
  },
  {
   "cell_type": "code",
   "execution_count": 4,
   "metadata": {},
   "outputs": [
    {
     "data": {
      "text/plain": [
       "numpy.ndarray"
      ]
     },
     "execution_count": 4,
     "metadata": {},
     "output_type": "execute_result"
    }
   ],
   "source": [
    "type(arr_1)"
   ]
  },
  {
   "cell_type": "code",
   "execution_count": 5,
   "metadata": {},
   "outputs": [
    {
     "data": {
      "text/plain": [
       "(5,)"
      ]
     },
     "execution_count": 5,
     "metadata": {},
     "output_type": "execute_result"
    }
   ],
   "source": [
    "arr_1.shape"
   ]
  },
  {
   "cell_type": "code",
   "execution_count": 6,
   "metadata": {},
   "outputs": [
    {
     "data": {
      "text/plain": [
       "1"
      ]
     },
     "execution_count": 6,
     "metadata": {},
     "output_type": "execute_result"
    }
   ],
   "source": [
    "arr_1.ndim"
   ]
  },
  {
   "cell_type": "code",
   "execution_count": 9,
   "metadata": {},
   "outputs": [
    {
     "data": {
      "text/plain": [
       "3.0"
      ]
     },
     "execution_count": 9,
     "metadata": {},
     "output_type": "execute_result"
    }
   ],
   "source": [
    "arr_1.mean()"
   ]
  },
  {
   "cell_type": "code",
   "execution_count": 11,
   "metadata": {},
   "outputs": [],
   "source": [
    "arr_1 = np.arange(20)"
   ]
  },
  {
   "cell_type": "code",
   "execution_count": 12,
   "metadata": {},
   "outputs": [
    {
     "data": {
      "text/plain": [
       "array([ 0,  1,  2,  3,  4,  5,  6,  7,  8,  9, 10, 11, 12, 13, 14, 15, 16,\n",
       "       17, 18, 19])"
      ]
     },
     "execution_count": 12,
     "metadata": {},
     "output_type": "execute_result"
    }
   ],
   "source": [
    "arr_1"
   ]
  },
  {
   "cell_type": "code",
   "execution_count": 13,
   "metadata": {},
   "outputs": [
    {
     "data": {
      "text/plain": [
       "(20,)"
      ]
     },
     "execution_count": 13,
     "metadata": {},
     "output_type": "execute_result"
    }
   ],
   "source": [
    "arr_1.shape"
   ]
  },
  {
   "cell_type": "code",
   "execution_count": 15,
   "metadata": {},
   "outputs": [],
   "source": [
    "reshaped_array = arr_1.reshape(4,5)"
   ]
  },
  {
   "cell_type": "code",
   "execution_count": 16,
   "metadata": {},
   "outputs": [
    {
     "data": {
      "text/plain": [
       "array([[ 0,  1,  2,  3,  4],\n",
       "       [ 5,  6,  7,  8,  9],\n",
       "       [10, 11, 12, 13, 14],\n",
       "       [15, 16, 17, 18, 19]])"
      ]
     },
     "execution_count": 16,
     "metadata": {},
     "output_type": "execute_result"
    }
   ],
   "source": [
    "reshaped_array"
   ]
  },
  {
   "cell_type": "code",
   "execution_count": 17,
   "metadata": {},
   "outputs": [
    {
     "data": {
      "text/plain": [
       "(4, 5)"
      ]
     },
     "execution_count": 17,
     "metadata": {},
     "output_type": "execute_result"
    }
   ],
   "source": [
    "reshaped_array.shape"
   ]
  },
  {
   "cell_type": "code",
   "execution_count": 18,
   "metadata": {},
   "outputs": [
    {
     "data": {
      "text/plain": [
       "array([15, 16, 17, 18, 19])"
      ]
     },
     "execution_count": 18,
     "metadata": {},
     "output_type": "execute_result"
    }
   ],
   "source": [
    "reshaped_array.max(axis=0)"
   ]
  },
  {
   "cell_type": "code",
   "execution_count": 19,
   "metadata": {},
   "outputs": [
    {
     "data": {
      "text/plain": [
       "array([ 4,  9, 14, 19])"
      ]
     },
     "execution_count": 19,
     "metadata": {},
     "output_type": "execute_result"
    }
   ],
   "source": [
    "reshaped_array.max(axis=1)"
   ]
  },
  {
   "cell_type": "code",
   "execution_count": 20,
   "metadata": {},
   "outputs": [
    {
     "data": {
      "text/plain": [
       "array([3, 3, 3, 3, 3])"
      ]
     },
     "execution_count": 20,
     "metadata": {},
     "output_type": "execute_result"
    }
   ],
   "source": [
    "reshaped_array.argmax(axis=0)"
   ]
  },
  {
   "cell_type": "code",
   "execution_count": 22,
   "metadata": {},
   "outputs": [],
   "source": [
    "arr_1 = reshaped_array.reshape(1,-1)"
   ]
  },
  {
   "cell_type": "code",
   "execution_count": 23,
   "metadata": {},
   "outputs": [
    {
     "data": {
      "text/plain": [
       "array([[ 0,  1,  2,  3,  4,  5,  6,  7,  8,  9, 10, 11, 12, 13, 14, 15,\n",
       "        16, 17, 18, 19]])"
      ]
     },
     "execution_count": 23,
     "metadata": {},
     "output_type": "execute_result"
    }
   ],
   "source": [
    "arr_1"
   ]
  },
  {
   "cell_type": "code",
   "execution_count": 24,
   "metadata": {},
   "outputs": [
    {
     "data": {
      "text/plain": [
       "array([[ 0,  1,  2,  3,  4,  5,  6,  7,  8,  9, 10, 11, 12, 13, 14, 15,\n",
       "        16, 17, 18, 19]], dtype=int8)"
      ]
     },
     "execution_count": 24,
     "metadata": {},
     "output_type": "execute_result"
    }
   ],
   "source": [
    "arr_1.astype(np.int8)"
   ]
  },
  {
   "cell_type": "code",
   "execution_count": 25,
   "metadata": {},
   "outputs": [
    {
     "data": {
      "text/plain": [
       "array([[ 0],\n",
       "       [ 1],\n",
       "       [ 2],\n",
       "       [ 3],\n",
       "       [ 4],\n",
       "       [ 5],\n",
       "       [ 6],\n",
       "       [ 7],\n",
       "       [ 8],\n",
       "       [ 9],\n",
       "       [10],\n",
       "       [11],\n",
       "       [12],\n",
       "       [13],\n",
       "       [14],\n",
       "       [15],\n",
       "       [16],\n",
       "       [17],\n",
       "       [18],\n",
       "       [19]])"
      ]
     },
     "execution_count": 25,
     "metadata": {},
     "output_type": "execute_result"
    }
   ],
   "source": [
    "arr_1.T"
   ]
  },
  {
   "cell_type": "code",
   "execution_count": 26,
   "metadata": {},
   "outputs": [],
   "source": [
    "arr_1 = arr_1.reshape(4,5)"
   ]
  },
  {
   "cell_type": "code",
   "execution_count": 27,
   "metadata": {},
   "outputs": [
    {
     "data": {
      "text/plain": [
       "array([[ 0,  1,  2,  3,  4],\n",
       "       [ 5,  6,  7,  8,  9],\n",
       "       [10, 11, 12, 13, 14],\n",
       "       [15, 16, 17, 18, 19]])"
      ]
     },
     "execution_count": 27,
     "metadata": {},
     "output_type": "execute_result"
    }
   ],
   "source": [
    "arr_1"
   ]
  },
  {
   "cell_type": "code",
   "execution_count": 28,
   "metadata": {},
   "outputs": [
    {
     "data": {
      "text/plain": [
       "array([[ 0,  5, 10, 15],\n",
       "       [ 1,  6, 11, 16],\n",
       "       [ 2,  7, 12, 17],\n",
       "       [ 3,  8, 13, 18],\n",
       "       [ 4,  9, 14, 19]])"
      ]
     },
     "execution_count": 28,
     "metadata": {},
     "output_type": "execute_result"
    }
   ],
   "source": [
    "arr_1.T"
   ]
  },
  {
   "cell_type": "code",
   "execution_count": 29,
   "metadata": {},
   "outputs": [],
   "source": [
    "ones = np.ones(20).reshape(4,5)"
   ]
  },
  {
   "cell_type": "code",
   "execution_count": 30,
   "metadata": {},
   "outputs": [
    {
     "data": {
      "text/plain": [
       "array([[1., 1., 1., 1., 1.],\n",
       "       [1., 1., 1., 1., 1.],\n",
       "       [1., 1., 1., 1., 1.],\n",
       "       [1., 1., 1., 1., 1.]])"
      ]
     },
     "execution_count": 30,
     "metadata": {},
     "output_type": "execute_result"
    }
   ],
   "source": [
    "ones"
   ]
  },
  {
   "cell_type": "code",
   "execution_count": 32,
   "metadata": {},
   "outputs": [
    {
     "data": {
      "text/plain": [
       "array([0., 0.])"
      ]
     },
     "execution_count": 32,
     "metadata": {},
     "output_type": "execute_result"
    }
   ],
   "source": [
    "np.zeros(2)"
   ]
  },
  {
   "cell_type": "code",
   "execution_count": 33,
   "metadata": {},
   "outputs": [
    {
     "data": {
      "text/plain": [
       "array([[1., 0., 0., 0., 0.],\n",
       "       [0., 1., 0., 0., 0.],\n",
       "       [0., 0., 1., 0., 0.],\n",
       "       [0., 0., 0., 1., 0.]])"
      ]
     },
     "execution_count": 33,
     "metadata": {},
     "output_type": "execute_result"
    }
   ],
   "source": [
    "np.eye(4,5)"
   ]
  },
  {
   "cell_type": "code",
   "execution_count": 40,
   "metadata": {},
   "outputs": [],
   "source": [
    "vec_1 = np.array([1,2,3,4,5])"
   ]
  },
  {
   "cell_type": "code",
   "execution_count": 41,
   "metadata": {},
   "outputs": [
    {
     "data": {
      "text/plain": [
       "array([[ 0,  1,  2,  3,  4],\n",
       "       [ 5,  6,  7,  8,  9],\n",
       "       [10, 11, 12, 13, 14],\n",
       "       [15, 16, 17, 18, 19]])"
      ]
     },
     "execution_count": 41,
     "metadata": {},
     "output_type": "execute_result"
    }
   ],
   "source": [
    "arr_1"
   ]
  },
  {
   "cell_type": "code",
   "execution_count": 42,
   "metadata": {},
   "outputs": [
    {
     "data": {
      "text/plain": [
       "array([[ 1,  3,  5,  7,  9],\n",
       "       [ 6,  8, 10, 12, 14],\n",
       "       [11, 13, 15, 17, 19],\n",
       "       [16, 18, 20, 22, 24]])"
      ]
     },
     "execution_count": 42,
     "metadata": {},
     "output_type": "execute_result"
    }
   ],
   "source": [
    "vec_1+arr_1"
   ]
  },
  {
   "cell_type": "code",
   "execution_count": 43,
   "metadata": {},
   "outputs": [
    {
     "data": {
      "text/plain": [
       "(5,)"
      ]
     },
     "execution_count": 43,
     "metadata": {},
     "output_type": "execute_result"
    }
   ],
   "source": [
    "vec_1.shape"
   ]
  },
  {
   "cell_type": "code",
   "execution_count": 48,
   "metadata": {},
   "outputs": [],
   "source": [
    "vec_1=np.expand_dims(vec_1,axis = 1)"
   ]
  },
  {
   "cell_type": "code",
   "execution_count": 49,
   "metadata": {},
   "outputs": [
    {
     "data": {
      "text/plain": [
       "(5, 1)"
      ]
     },
     "execution_count": 49,
     "metadata": {},
     "output_type": "execute_result"
    }
   ],
   "source": [
    "vec_1.shape"
   ]
  },
  {
   "cell_type": "markdown",
   "metadata": {},
   "source": [
    "### Note: Keeps on increasing proportionately to the times we run the code"
   ]
  },
  {
   "cell_type": "code",
   "execution_count": 68,
   "metadata": {},
   "outputs": [],
   "source": [
    "vec_1=np.expand_dims(vec_1,axis=1)"
   ]
  },
  {
   "cell_type": "code",
   "execution_count": 69,
   "metadata": {},
   "outputs": [
    {
     "data": {
      "text/plain": [
       "array([[[[[[[[[[[1]],\n",
       "\n",
       "               [[2]],\n",
       "\n",
       "               [[3]],\n",
       "\n",
       "               [[4]],\n",
       "\n",
       "               [[5]]]]]]]]]]])"
      ]
     },
     "execution_count": 69,
     "metadata": {},
     "output_type": "execute_result"
    }
   ],
   "source": [
    "vec_1"
   ]
  },
  {
   "cell_type": "code",
   "execution_count": 70,
   "metadata": {},
   "outputs": [
    {
     "data": {
      "text/plain": [
       "(1, 1, 1, 1, 1, 1, 1, 1, 5, 1, 1)"
      ]
     },
     "execution_count": 70,
     "metadata": {},
     "output_type": "execute_result"
    }
   ],
   "source": [
    "vec_1.shape"
   ]
  },
  {
   "cell_type": "code",
   "execution_count": 71,
   "metadata": {},
   "outputs": [
    {
     "data": {
      "text/plain": [
       "(4, 5)"
      ]
     },
     "execution_count": 71,
     "metadata": {},
     "output_type": "execute_result"
    }
   ],
   "source": [
    "arr_1.shape"
   ]
  },
  {
   "cell_type": "code",
   "execution_count": 75,
   "metadata": {},
   "outputs": [],
   "source": [
    "arr_2 = np.arange(20).reshape(5,4)"
   ]
  },
  {
   "cell_type": "code",
   "execution_count": 76,
   "metadata": {},
   "outputs": [
    {
     "data": {
      "text/plain": [
       "array([[ 0,  1,  2,  3],\n",
       "       [ 4,  5,  6,  7],\n",
       "       [ 8,  9, 10, 11],\n",
       "       [12, 13, 14, 15],\n",
       "       [16, 17, 18, 19]])"
      ]
     },
     "execution_count": 76,
     "metadata": {},
     "output_type": "execute_result"
    }
   ],
   "source": [
    "arr_2"
   ]
  },
  {
   "cell_type": "code",
   "execution_count": 77,
   "metadata": {},
   "outputs": [
    {
     "data": {
      "text/plain": [
       "(5, 4)"
      ]
     },
     "execution_count": 77,
     "metadata": {},
     "output_type": "execute_result"
    }
   ],
   "source": [
    "arr_2.shape"
   ]
  },
  {
   "cell_type": "code",
   "execution_count": 78,
   "metadata": {},
   "outputs": [
    {
     "data": {
      "text/plain": [
       "array([[120, 130, 140, 150],\n",
       "       [320, 355, 390, 425],\n",
       "       [520, 580, 640, 700],\n",
       "       [720, 805, 890, 975]])"
      ]
     },
     "execution_count": 78,
     "metadata": {},
     "output_type": "execute_result"
    }
   ],
   "source": [
    "np.dot(arr_1,arr_2)"
   ]
  },
  {
   "cell_type": "code",
   "execution_count": 79,
   "metadata": {},
   "outputs": [
    {
     "data": {
      "text/plain": [
       "array([[120, 130, 140, 150],\n",
       "       [320, 355, 390, 425],\n",
       "       [520, 580, 640, 700],\n",
       "       [720, 805, 890, 975]])"
      ]
     },
     "execution_count": 79,
     "metadata": {},
     "output_type": "execute_result"
    }
   ],
   "source": [
    "arr_1.dot(arr_2)"
   ]
  },
  {
   "cell_type": "code",
   "execution_count": 80,
   "metadata": {},
   "outputs": [
    {
     "data": {
      "text/plain": [
       "array([[ 1,  2,  3,  4,  5],\n",
       "       [ 0,  1,  2,  3,  4],\n",
       "       [ 5,  6,  7,  8,  9],\n",
       "       [10, 11, 12, 13, 14],\n",
       "       [15, 16, 17, 18, 19]])"
      ]
     },
     "execution_count": 80,
     "metadata": {},
     "output_type": "execute_result"
    }
   ],
   "source": [
    "np.append(np.array([1,2,3,4,5]).reshape(1,5),arr_1,axis=0)"
   ]
  },
  {
   "cell_type": "code",
   "execution_count": 81,
   "metadata": {},
   "outputs": [
    {
     "data": {
      "text/plain": [
       "array([[ 0,  1,  2,  3,  4],\n",
       "       [ 5,  6,  7,  8,  9],\n",
       "       [10, 11, 12, 13, 14],\n",
       "       [15, 16, 17, 18, 19]])"
      ]
     },
     "execution_count": 81,
     "metadata": {},
     "output_type": "execute_result"
    }
   ],
   "source": [
    "arr_1"
   ]
  },
  {
   "cell_type": "code",
   "execution_count": 83,
   "metadata": {},
   "outputs": [
    {
     "data": {
      "text/plain": [
       "array([[ 5,  6],\n",
       "       [10, 11]])"
      ]
     },
     "execution_count": 83,
     "metadata": {},
     "output_type": "execute_result"
    }
   ],
   "source": [
    "arr_1[1:3,:2]"
   ]
  },
  {
   "cell_type": "code",
   "execution_count": 88,
   "metadata": {},
   "outputs": [
    {
     "data": {
      "text/plain": [
       "array([[12, 13],\n",
       "       [17, 18]])"
      ]
     },
     "execution_count": 88,
     "metadata": {},
     "output_type": "execute_result"
    }
   ],
   "source": [
    "arr_1[2:4,2:4]"
   ]
  },
  {
   "cell_type": "code",
   "execution_count": 89,
   "metadata": {},
   "outputs": [
    {
     "data": {
      "text/plain": [
       "array([[ 1,  3],\n",
       "       [ 6,  8],\n",
       "       [11, 13],\n",
       "       [16, 18]])"
      ]
     },
     "execution_count": 89,
     "metadata": {},
     "output_type": "execute_result"
    }
   ],
   "source": [
    "arr_1[:,[1,3]]"
   ]
  },
  {
   "cell_type": "code",
   "execution_count": 90,
   "metadata": {},
   "outputs": [
    {
     "data": {
      "text/plain": [
       "array([[ 0,  2],\n",
       "       [ 5,  7],\n",
       "       [10, 12],\n",
       "       [15, 17]])"
      ]
     },
     "execution_count": 90,
     "metadata": {},
     "output_type": "execute_result"
    }
   ],
   "source": [
    "arr_1[:,[0,2]]"
   ]
  },
  {
   "cell_type": "markdown",
   "metadata": {},
   "source": [
    "### Filtering the data"
   ]
  },
  {
   "cell_type": "code",
   "execution_count": 92,
   "metadata": {},
   "outputs": [
    {
     "data": {
      "text/plain": [
       "array([[False, False, False, False, False],\n",
       "       [False, False, False, False, False],\n",
       "       [ True,  True,  True,  True,  True],\n",
       "       [ True,  True,  True,  True,  True]])"
      ]
     },
     "execution_count": 92,
     "metadata": {},
     "output_type": "execute_result"
    }
   ],
   "source": [
    "arr_1 >= 10"
   ]
  },
  {
   "cell_type": "code",
   "execution_count": 94,
   "metadata": {},
   "outputs": [
    {
     "data": {
      "text/plain": [
       "array([10, 11, 12, 13, 14, 15, 16, 17, 18, 19])"
      ]
     },
     "execution_count": 94,
     "metadata": {},
     "output_type": "execute_result"
    }
   ],
   "source": [
    "arr_1 [arr_1>= 10]"
   ]
  },
  {
   "cell_type": "code",
   "execution_count": 96,
   "metadata": {},
   "outputs": [
    {
     "data": {
      "text/plain": [
       "array([[  0. ,   5.5,  11. ,  16.5,  22. ],\n",
       "       [ 27.5,  33. ,  38.5,  44. ,  49.5],\n",
       "       [ 55. ,  60.5,  66. ,  71.5,  77. ],\n",
       "       [ 82.5,  88. ,  93.5,  99. , 104.5]])"
      ]
     },
     "execution_count": 96,
     "metadata": {},
     "output_type": "execute_result"
    }
   ],
   "source": [
    "5.5*arr_1"
   ]
  },
  {
   "cell_type": "markdown",
   "metadata": {},
   "source": [
    "### Generating probablity using numpy"
   ]
  },
  {
   "cell_type": "code",
   "execution_count": 110,
   "metadata": {},
   "outputs": [],
   "source": [
    "uniform = np.random.uniform(1,100,1000)"
   ]
  },
  {
   "cell_type": "code",
   "execution_count": 111,
   "metadata": {},
   "outputs": [
    {
     "data": {
      "text/plain": [
       "array([35.95034932, 49.36194657, 38.17324886, 37.78382163,  9.50591562,\n",
       "       24.78916185, 98.31570767,  8.5315238 , 82.43529493,  3.47300405,\n",
       "       49.37742904, 10.18944309, 43.66627092, 49.76100111, 26.3576888 ,\n",
       "       98.01315416, 86.42672372, 45.00412885, 36.317319  , 31.75650442,\n",
       "       46.9439984 , 39.46532053, 99.11465942, 22.34416381, 81.80469543,\n",
       "       66.96818448, 92.68076997, 44.13919221, 24.42915102, 29.26726019,\n",
       "       57.07434535, 19.54580417,  5.24827167, 32.11084843, 61.72716777,\n",
       "        2.86164889, 64.8976733 , 20.33988392, 66.05239692, 57.60054981,\n",
       "       97.26114738, 18.16767221, 20.57417315, 93.51163245, 60.77436836,\n",
       "       48.38187635, 11.76631003, 54.65177126, 71.73392602, 19.96180463,\n",
       "       30.97462008,  4.5493718 , 49.03262669, 68.16301957, 39.15201817,\n",
       "       81.73396965, 93.21501299, 56.81794064, 11.13158442, 81.23078884,\n",
       "       84.32491881, 97.33602367, 86.45469763, 54.18598334, 12.76334224,\n",
       "        8.81857932, 12.58325344, 65.12670421, 97.11341395, 32.96767344,\n",
       "       13.34779386, 34.045389  , 76.95547486,  4.23624434, 21.78296269,\n",
       "       46.27809472, 58.78676382, 14.02303243, 58.11051052, 27.41652999,\n",
       "       12.24405042, 69.63677564, 93.46023758, 88.28618125,  4.8714886 ,\n",
       "       55.3332385 , 25.3314238 , 12.99789384, 14.39371109, 19.12738956,\n",
       "       74.60863732, 15.78022047, 54.69603926,  6.79228924, 59.3000747 ,\n",
       "       23.16449689, 85.53279983, 82.66866396, 73.17784698, 53.13222305,\n",
       "       75.2777197 , 27.15223947, 41.14965799, 27.47425476, 93.07710256,\n",
       "       36.9460956 , 41.37628573, 35.69167328, 78.2733932 , 71.35200385,\n",
       "       53.88864852, 14.10615233, 78.01332535, 73.36595679, 98.20915857,\n",
       "       64.62474829, 24.52151242, 43.4443871 , 62.13599577,  9.52547195,\n",
       "       16.02190119, 72.28687486, 83.88639215, 49.55150061, 55.28225276,\n",
       "       49.55074966, 15.28722915, 77.16180363, 77.6774726 , 20.51273113,\n",
       "       40.79138691, 24.76492816, 13.08726159, 59.0898184 , 82.18116257,\n",
       "       31.95914172, 53.31393279, 96.62310747, 17.80509491, 89.74927124,\n",
       "       88.63061373, 83.22718476, 71.10654701, 24.17175719, 86.99954353,\n",
       "       20.57052285, 50.90587361, 59.38772317, 64.33336633, 48.58720832,\n",
       "       93.78729832, 90.49044872, 74.58821256,  1.83103777,  2.38220692,\n",
       "       33.71757118, 82.36577073, 52.09212726, 42.64591865, 62.86542546,\n",
       "       28.93915354, 97.31908139, 24.5583465 , 92.24671586, 46.17756759,\n",
       "       56.98028758, 59.47172945, 42.24870181, 39.07550374, 80.45804717,\n",
       "       63.18900428, 95.36246875, 57.96737675,  5.56574616,  2.7819645 ,\n",
       "       95.35108831, 18.85891641, 82.63128262, 97.75635788, 28.23254987,\n",
       "       94.84206296, 65.56400148,  3.87719067, 25.43331437, 54.58836604,\n",
       "       93.43504541, 93.24602943, 20.65824529, 79.33903087, 73.41407972,\n",
       "       86.53722907, 25.42258544, 10.94699125, 58.07127844, 59.02087404,\n",
       "       57.49698961, 75.53011501, 39.18761646, 54.77864647, 33.24518701,\n",
       "       80.85675261, 64.43796356, 21.26921013, 23.37453798, 96.27754591,\n",
       "       76.93566816, 10.11357917, 25.43485355, 78.92892248, 36.62918675,\n",
       "       15.26638107, 34.31578058, 21.07786106, 86.86004978, 67.19389282,\n",
       "       74.78423109, 23.31392531, 42.1312734 , 79.83647875, 63.28267837,\n",
       "       86.85134107,  4.62770552, 54.22461492, 91.33214648,  2.52953442,\n",
       "       37.73964876, 58.91912852, 87.84682175, 84.5254244 , 64.20527171,\n",
       "       82.74465232, 54.75437175, 29.11612794, 59.44010937, 12.14794424,\n",
       "       74.60082319, 37.20049658, 35.46518758, 31.07272579,  6.53228397,\n",
       "       82.90308076, 21.16963739, 29.25714113, 86.83069984, 69.79400923,\n",
       "       21.88544293, 38.96862817,  6.22514935, 12.02356785, 46.60522569,\n",
       "       25.30488405, 43.55456265, 60.45792549, 32.23558205, 24.61149685,\n",
       "       73.31670799, 15.08136814, 72.69261378, 35.24104026, 84.77848686,\n",
       "       61.86976458, 77.45442882, 27.74662967, 24.32808217, 20.31778014,\n",
       "       98.81592474, 62.21170087, 14.5566143 ,  5.83323269,  5.44227021,\n",
       "        6.01634935, 99.38826161, 77.36269823, 11.15522432, 70.35859098,\n",
       "       56.13990081, 47.67207881, 95.96966443, 22.31270433, 33.82366671,\n",
       "       69.30371408, 29.57034552, 53.26300845, 75.79427008, 75.25811987,\n",
       "       96.19628602, 54.5369412 , 82.32878096, 82.32491025, 98.33207444,\n",
       "       94.39018318, 14.33525652, 15.27557271, 48.86654741, 77.37434534,\n",
       "       17.91311844, 60.03333396, 79.83244214, 47.18330927, 72.04731753,\n",
       "       35.98785946,  4.08635613, 23.26542698,  9.07035842, 49.37162253,\n",
       "       62.33271755, 91.87014526, 38.68624354, 70.70549242,  9.00783822,\n",
       "       80.95473724, 88.23705757, 66.15230381,  1.94594486, 47.88747307,\n",
       "       28.4661255 , 41.22135952, 72.48750909, 40.43864277, 12.01186079,\n",
       "       10.33648471, 86.36943428, 63.93860033, 52.12828182, 83.87337423,\n",
       "        4.8725649 , 31.318147  , 77.03055618, 93.2271812 , 28.49159316,\n",
       "        2.64085848, 37.78798382,  6.95908745, 56.51142138, 53.61173341,\n",
       "       46.83670817, 64.42258128, 93.75369117, 26.93615173, 79.91804784,\n",
       "       87.49977085, 49.38517529, 31.87539781, 37.64680951, 10.23298299,\n",
       "       61.12520566, 69.9258124 , 73.48632468,  4.8441859 , 43.07815114,\n",
       "       86.16257603, 46.05351265, 73.75733011, 88.18070294, 12.62354673,\n",
       "       96.35664785, 99.52423125, 81.37986961,  4.92099893, 16.07136049,\n",
       "       44.79434535, 74.94600554, 62.51151046,  6.67566737, 15.72016294,\n",
       "       14.42573133, 43.71721828, 71.43439341, 43.64409325, 17.94648411,\n",
       "        2.29310806, 30.71229894, 68.80816219, 71.73510972, 19.13992469,\n",
       "       37.23093132, 19.60443749, 42.56124207,  4.18671139, 65.04138688,\n",
       "       29.08766739, 53.9535692 , 97.55648499, 14.17617513, 40.69923204,\n",
       "       62.60497311, 37.35500058, 46.27338324,  5.55859065, 21.88886456,\n",
       "       64.54642842, 98.00085253, 51.41314369, 12.94695956, 71.01016233,\n",
       "       51.09207282, 31.09702378, 73.2135478 , 28.24961183, 69.30009153,\n",
       "       38.03657258, 64.59871348, 13.29994637, 94.7679649 , 23.39202416,\n",
       "       73.52470628, 59.46548594, 18.70716179, 86.8154177 , 31.67356647,\n",
       "        9.18190097, 88.77151087, 54.23034087, 74.6449129 ,  2.01087098,\n",
       "       99.63601646, 75.38607277, 31.12375709,  5.82041495, 41.30637531,\n",
       "       78.98964884, 85.10581382, 36.00026774, 23.1783902 , 77.40099664,\n",
       "       18.04901627, 99.01607248, 61.13956781, 76.34946697, 29.30181208,\n",
       "        6.58936016, 58.39752374, 19.85622796, 45.55374927, 39.36050973,\n",
       "       48.3983701 , 31.23727217, 67.65431029, 65.17313908, 11.9129872 ,\n",
       "       48.98958028, 82.13438012, 48.44875999, 33.70865186, 24.58770869,\n",
       "       92.82399636, 58.48878523,  7.24212884, 76.19617707, 75.03486734,\n",
       "       70.19240709, 13.13860944, 93.83767472,  6.12300631, 17.80548037,\n",
       "       63.12024687, 24.69712374, 24.08751969, 43.53273618, 52.20993396,\n",
       "        7.38592667,  2.5287301 , 41.63483271, 62.50419464, 72.15097388,\n",
       "       65.67717965, 18.55835335, 58.20008233, 48.54988192, 94.9030195 ,\n",
       "       21.74907854, 35.07807006, 93.09603358, 16.99071616, 97.13480144,\n",
       "       55.68020514, 63.7403631 , 43.21384549, 88.30665812, 38.29576477,\n",
       "       72.66412207, 45.33871789, 50.6263426 , 22.38170103, 72.60520847,\n",
       "        6.80494815, 23.00103889, 20.31969207, 94.42574384, 53.64429408,\n",
       "        3.24995897, 32.10502249, 15.00024889, 23.2704125 , 81.91029019,\n",
       "       15.97190944,  3.88486054, 73.31435971, 59.90422309, 57.56008916,\n",
       "       37.60303176, 83.45643513, 26.61636534, 11.52664106, 12.55361227,\n",
       "       51.63211984,  6.73008993, 40.04292143, 81.76034857, 96.26385303,\n",
       "       86.24498721, 61.45760967, 36.90956509, 54.40083328, 85.82161981,\n",
       "       89.10643901, 74.35714853, 36.79986817, 58.6758212 , 62.37088238,\n",
       "       86.43564695, 45.30041732, 72.06984928, 35.00215201, 85.99129753,\n",
       "        5.52459811, 45.50662994, 45.06538056, 15.34706918, 25.92993923,\n",
       "        5.55471471, 48.92374336,  2.59787622, 31.82420376, 86.84555055,\n",
       "       31.48822034, 50.25947319, 68.51946455, 54.22873318, 31.5251447 ,\n",
       "       94.78314281, 54.67858206, 76.89927883, 65.39148592, 87.51161526,\n",
       "       15.38053198, 18.60376936, 77.78412401, 21.1142063 , 90.15126042,\n",
       "       83.95274791, 60.11153778,  8.25385873,  1.10354136, 90.18701703,\n",
       "       25.6632755 , 97.36665938, 84.33956179, 95.44360309, 54.56123671,\n",
       "       43.59019933, 60.40943055, 73.4165014 , 77.93282824, 35.0310876 ,\n",
       "       50.43694708, 47.33540551, 66.58347471, 56.33709545, 17.47442304,\n",
       "       46.5936399 , 32.9194555 , 72.76701803, 93.59119849, 71.08018606,\n",
       "       16.21570576, 38.72824952, 30.82921956, 47.26184035, 35.27268537,\n",
       "       58.80625776, 70.30500729, 97.98497588, 34.96650823, 84.97223426,\n",
       "       34.36211212, 62.32646838, 55.28895917, 96.44583138, 35.32416872,\n",
       "        7.00020882,  8.05125865, 31.12131167, 56.96563408, 84.4742452 ,\n",
       "       70.76222631, 40.45816613, 67.49009112, 84.05342734, 25.96768093,\n",
       "       92.35139753, 54.77508204, 26.27550098, 77.63527163, 83.82287359,\n",
       "        3.23898879, 74.14166036, 55.90827263, 79.11274222, 60.30277469,\n",
       "       82.74740124, 84.06164303, 72.65112939, 69.32602481, 93.14521679,\n",
       "       63.07690492,  3.15969861, 11.82075354, 82.67177135, 40.2976421 ,\n",
       "       33.3395848 , 50.54474324, 46.18931449, 18.62561394, 84.55280721,\n",
       "       39.69040335, 64.45593627, 34.72131389, 97.13278575, 14.87371736,\n",
       "        7.51220124, 34.40054919,  6.71813894, 64.93098263,  5.18117868,\n",
       "       82.74350676, 63.34829629, 72.78345635, 15.70059437, 36.15926569,\n",
       "       83.24844449, 30.44232765, 81.2626477 , 79.24558263,  5.33108343,\n",
       "       62.60006817, 73.84909261, 45.16552668, 32.3522555 , 32.78322311,\n",
       "       44.82412003, 61.04043711, 18.92480799, 69.89065555, 69.5207292 ,\n",
       "       26.90105763, 79.28589132, 79.8368854 , 98.48840944, 27.34459388,\n",
       "        6.58942905, 76.79741152, 13.63713501, 71.42011459, 37.12051928,\n",
       "       53.62264699, 13.04584368, 92.97536395, 11.02124741, 95.71992179,\n",
       "       93.94174121, 44.97578392, 45.50908422, 95.93949454,  5.5848005 ,\n",
       "       41.97037935, 14.22711939, 50.42140531, 21.8240453 , 11.1828494 ,\n",
       "       96.8230911 , 74.32650833, 83.28499857, 72.20595568, 57.63351663,\n",
       "       74.11877617, 79.84144929, 61.3627281 ,  2.33593997, 97.80351733,\n",
       "       84.62371696, 55.80124983, 24.16745607, 69.63998572, 22.03418341,\n",
       "        9.6097636 , 76.88101232, 98.84951562, 61.82860188, 52.80824701,\n",
       "       88.25313497,  5.33615155,  2.35137807, 69.53499094, 97.08944044,\n",
       "       50.59367496, 25.75895355, 94.40921639, 24.72162153, 30.0404523 ,\n",
       "       22.74243046, 94.30635476, 64.08583825, 15.02376406, 69.89155433,\n",
       "       63.43848891, 25.82909746,  9.97634592, 73.94898271, 59.8979579 ,\n",
       "       43.67406693, 71.23848253, 35.08528514, 58.18463162, 77.58687955,\n",
       "       45.64719502, 60.98967315, 18.39512816, 33.82237356, 39.83087127,\n",
       "       97.38714102, 39.52389233, 52.22259115, 90.9000834 , 68.46521929,\n",
       "       36.11554777, 58.39316883, 86.40124301, 56.50320246,  5.9881921 ,\n",
       "       50.81434103, 63.89437575, 86.47481869, 94.1432984 , 69.23242312,\n",
       "       70.6727541 , 55.39713903, 13.15468998, 27.82346384, 80.91583201,\n",
       "       79.98647603, 79.65791781, 90.97113213, 17.58011027, 23.42901532,\n",
       "       99.71027212, 91.60127528, 35.18002971, 71.41971342, 74.50906293,\n",
       "       73.09179559, 48.82295137, 30.17099352, 79.01905399, 81.59606077,\n",
       "       76.62472034,  4.94204977, 49.62021508,  3.47569471, 66.82564736,\n",
       "       11.71549071, 42.05760593, 82.8866831 , 61.41487698,  4.35181128,\n",
       "       71.76004403, 12.64609574, 97.66342762, 75.41687114, 96.54270989,\n",
       "       96.08795683, 93.72818029, 15.10919168, 17.52339231,  1.51798944,\n",
       "       18.14088704, 51.18870589, 40.65247424, 30.85381035, 42.77200953,\n",
       "       26.7964537 , 63.31503604, 20.45358984, 98.4822708 , 99.80697792,\n",
       "       52.93858745, 83.44225106, 73.50111856, 69.66805182, 16.62767517,\n",
       "       35.57423313, 75.30411509, 60.89957629, 59.93778473, 79.15816556,\n",
       "       70.95251147, 80.96274554, 94.96561917, 59.25041056, 55.61427445,\n",
       "       80.56104579,  9.10659613, 58.22694028, 85.72436464, 89.7711497 ,\n",
       "       14.75182299, 96.11298116, 83.80021713, 44.44914195, 69.5898429 ,\n",
       "       22.32301717,  6.17599934, 94.65469865, 51.00682247, 35.25493795,\n",
       "       39.76384664, 34.88674294, 29.72341311, 65.96793161, 15.62516609,\n",
       "       87.54273008, 25.11386714, 35.64949761, 86.84377283, 78.25861527,\n",
       "       23.5961749 , 65.78687936,  2.87735326, 69.3442504 ,  3.00305532,\n",
       "       58.07117424, 58.56416248, 87.44767016, 16.91040693, 54.12397656,\n",
       "       37.13155869, 29.02575458, 64.7124848 , 26.80597694, 42.78294686,\n",
       "       14.75714976, 73.71567674,  8.18556799, 11.98937081, 81.7573091 ,\n",
       "       31.09616997, 11.56280433, 11.55819663, 92.1018218 , 99.96500434,\n",
       "       17.2614332 , 19.48187375, 20.59223123, 56.72035788, 19.78179125,\n",
       "       48.07895411, 90.55984189, 66.40993419, 57.14254132,  4.27524631,\n",
       "       80.35403112, 28.0757043 ,  8.07245644, 70.14331666, 76.62618629,\n",
       "       19.68882624, 19.96737801, 49.95274741, 92.63170796, 88.5352078 ,\n",
       "       71.81257399, 49.19264715, 71.26821169, 47.41824297, 13.37051725,\n",
       "       46.69642656, 61.17404366, 23.78234096, 97.50040755, 92.10214267,\n",
       "       47.16693928, 99.00038982, 22.3751605 , 45.90754633, 44.98728613,\n",
       "        3.59361353, 35.94011116, 19.11434328, 20.9970366 , 40.93048126,\n",
       "       15.88732482, 22.15316574, 54.30459198, 93.83214473, 36.69185184,\n",
       "       42.83414976, 50.43963602, 51.95606965,  5.54776701, 91.49078696,\n",
       "       49.93100915, 67.15252503,  9.65160324, 62.05461365, 86.04797654,\n",
       "       10.51443246,  3.73647295, 57.57307412, 81.72541377, 15.39599482,\n",
       "       18.35951736, 82.82623706, 35.1503912 ,  9.59282192,  4.45295282,\n",
       "       44.02051139, 68.98740458, 53.06932885,  9.6285133 , 26.01559258,\n",
       "       18.2359136 , 75.72054501, 80.81140915,  7.92616659, 57.34317513,\n",
       "       90.73536358, 55.46209205, 23.63435931, 84.49489602, 32.74577012,\n",
       "       62.27047992, 30.73626499,  2.52654789, 53.66002694, 82.43444307,\n",
       "       43.19460485, 39.55337086, 96.52091833, 25.25219424, 15.54431505,\n",
       "       62.69560629, 90.13759995, 39.02494231,  2.50395539, 12.8679223 ,\n",
       "       80.71986648, 59.828056  , 66.72920049, 64.43969998, 23.50406434,\n",
       "       33.47716319, 73.16287399, 83.45702736, 45.10778675, 71.08480612,\n",
       "       34.78491525, 92.91741451, 28.0142571 , 42.74237832, 90.99381134,\n",
       "       27.34636586, 62.60352481, 49.78355559,  1.07781713, 31.94850497,\n",
       "       83.96680242, 11.28920651, 85.72773277, 19.0194525 , 89.85925803,\n",
       "       47.32674424,  8.3108389 , 39.435825  , 43.5284227 , 82.60620271,\n",
       "       50.08836199, 61.16397035, 86.75002473, 51.43336216, 77.67117419,\n",
       "       22.40583947, 13.40178163, 59.63288232, 73.11430986, 27.39836084,\n",
       "       29.63488791, 32.22532231, 33.03027548, 56.03072143, 76.57815904])"
      ]
     },
     "execution_count": 111,
     "metadata": {},
     "output_type": "execute_result"
    }
   ],
   "source": [
    "uniform"
   ]
  },
  {
   "cell_type": "code",
   "execution_count": 112,
   "metadata": {},
   "outputs": [],
   "source": [
    "import matplotlib.pyplot as plt"
   ]
  },
  {
   "cell_type": "code",
   "execution_count": 113,
   "metadata": {},
   "outputs": [
    {
     "data": {
      "image/png": "[encoded data removed]",
      "text/plain": [
       "<Figure size 432x288 with 1 Axes>"
      ]
     },
     "metadata": {
      "needs_background": "light"
     },
     "output_type": "display_data"
    }
   ],
   "source": [
    "plt.hist(uniform,bins=10)\n",
    "plt.show()"
   ]
  },
  {
   "cell_type": "code",
   "execution_count": 114,
   "metadata": {},
   "outputs": [
    {
     "data": {
      "image/png": "[encoded data removed]",
      "text/plain": [
       "<Figure size 432x288 with 1 Axes>"
      ]
     },
     "metadata": {
      "needs_background": "light"
     },
     "output_type": "display_data"
    }
   ],
   "source": [
    "plt.hist(uniform,bins = 1500)\n",
    "plt.show()"
   ]
  }
 ],
 "metadata": {
  "kernelspec": {
   "display_name": "Python 3",
   "language": "python",
   "name": "python3"
  },
  "language_info": {
   "codemirror_mode": {
    "name": "ipython",
    "version": 3
   },
   "file_extension": ".py",
   "mimetype": "text/x-python",
   "name": "python",
   "nbconvert_exporter": "python",
   "pygments_lexer": "ipython3",
   "version": "3.7.4"
  }
 },
 "nbformat": 4,
 "nbformat_minor": 2
}
